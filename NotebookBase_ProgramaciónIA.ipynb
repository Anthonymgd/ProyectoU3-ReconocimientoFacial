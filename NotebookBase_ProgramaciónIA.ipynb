{
 "cells": [
  {
   "cell_type": "markdown",
   "id": "8b6f603c",
   "metadata": {},
   "source": [
    "<center><h1>Inteligencia Artificial</header1></center>"
   ]
  },
  {
   "cell_type": "markdown",
   "id": "3eb1aaac",
   "metadata": {},
   "source": [
    "Presentado por: <br>\n",
    "- Anthony Mauricio Goyes Díaz  <br>\n",
    "- Byan Alfredo Solorzano Montero<br>\n",
    "\n",
    "Fecha: 04/08/2022"
   ]
  },
  {
   "cell_type": "markdown",
   "id": "1dec299b",
   "metadata": {
    "ExecuteTime": {
     "end_time": "2022-03-14T15:14:04.930713Z",
     "start_time": "2022-03-14T15:14:04.921682Z"
    }
   },
   "source": [
    "# Importación de librerias necesarias"
   ]
  },
  {
   "cell_type": "code",
   "execution_count": 60,
   "id": "6d1abf7a",
   "metadata": {
    "ExecuteTime": {
     "end_time": "2022-03-14T15:14:46.228059Z",
     "start_time": "2022-03-14T15:14:46.223108Z"
    }
   },
   "outputs": [],
   "source": [
    "import glob\n",
    "import os\n",
    "import re\n",
    "import numpy as np\n",
    "import pandas as pd\n",
    "import shutil\n",
    "import seaborn as sns\n",
    "from matplotlib import pyplot\n",
    "from skimage.io import imread\n",
    "from keras.preprocessing import image\n",
    "1\n",
    "\n",
    "from tensorflow.keras.preprocessing.image import load_img\n",
    "import matplotlib.pyplot as plt\n",
    "import seaborn as sns"
   ]
  },
  {
   "cell_type": "markdown",
   "id": "6a44b924",
   "metadata": {},
   "source": [
    "## Cargar el Dataset"
   ]
  },
  {
   "cell_type": "code",
   "execution_count": 46,
   "id": "68f7f6f9",
   "metadata": {},
   "outputs": [
    {
     "name": "stdout",
     "output_type": "stream",
     "text": [
      "['AcostaNataly', 'ArielChabla', 'ArroboMercy', 'BarraganSteven', 'BorjaLeonardo', 'Borrero Jorge', 'CedeñoHector', 'CevallosJoan', 'EnriquezSelena', 'EspinosaJordan', 'GoyesAnthony', 'HerediaGenesis', 'LucioCarlos', 'LópezMelany', 'MasacheFernando', 'MosqueraLucy', 'OlallaLuis', 'PauteKevin', 'PárragaMaríaJosé', 'RaymondDávila', 'RivasSelena', 'RuizJose', 'SalazarJohana', 'SolórzanoBryan', 'WilmerSolano', 'ZambranoJhon']\n"
     ]
    }
   ],
   "source": [
    "clases = ['AcostaNataly', 'ArielChabla', 'ArroboMercy', 'BarraganSteven', 'BorjaLeonardo',\n",
    "          'Borrero Jorge', 'CedeñoHector', 'CevallosJoan', 'EnriquezSelena', 'EspinosaJordan',\n",
    "          'GoyesAnthony', 'HerediaGenesis', 'LucioCarlos', 'LópezMelany', 'MasacheFernando',\n",
    "          'MosqueraLucy', 'OlallaLuis', 'PauteKevin', 'PárragaMaríaJosé', 'RaymondDávila',\n",
    "          'RivasSelena', 'RuizJose', 'SalazarJohana', 'SolórzanoBryan', 'WilmerSolano',\n",
    "          'ZambranoJhon']\n",
    "imagenes_ruta = '../origen'\n",
    "train_ruta = os.path.join(imagenes_ruta)\n",
    "class_names = os.listdir(imagenes_ruta)\n",
    "class_names.sort()\n",
    "print(class_names)"
   ]
  },
  {
   "cell_type": "code",
   "execution_count": 55,
   "id": "ffb3c2fc",
   "metadata": {},
   "outputs": [
    {
     "name": "stdout",
     "output_type": "stream",
     "text": [
      "Copiando imagen - L00380424_1.jpg en '/recursos/destino/' AcostaNataly\n",
      "Copiando imagen - L00380424_2.jpg en '/recursos/destino/' AcostaNataly\n",
      "Copiando imagen - L00380424_3.jpg en '/recursos/destino/' AcostaNataly\n",
      "Copiando imagen - L00376418_1.jpg en '/recursos/destino/' ArielChabla\n",
      "Copiando imagen - L00376418_2.jpg en '/recursos/destino/' ArielChabla\n",
      "Copiando imagen - L00376418_3.jpg en '/recursos/destino/' ArielChabla\n",
      "Copiando imagen - L00385770_1.png en '/recursos/destino/' ArroboMercy\n",
      "Copiando imagen - L00385770_2.png en '/recursos/destino/' ArroboMercy\n",
      "Copiando imagen - L00385770_3.png en '/recursos/destino/' ArroboMercy\n",
      "Copiando imagen - L00392978_1.png en '/recursos/destino/' BarraganSteven\n",
      "Copiando imagen - L00392978_2.png en '/recursos/destino/' BarraganSteven\n",
      "Copiando imagen - L00392978_3.png en '/recursos/destino/' BarraganSteven\n",
      "Copiando imagen - L00393007_1.png en '/recursos/destino/' BorjaLeonardo\n",
      "Copiando imagen - L00393007_2.png en '/recursos/destino/' BorjaLeonardo\n",
      "Copiando imagen - L00393007_3.png en '/recursos/destino/' BorjaLeonardo\n",
      "Copiando imagen - L00379412_1.jpeg en '/recursos/destino/' Borrero Jorge\n",
      "Copiando imagen - L00379412_2.jpeg en '/recursos/destino/' Borrero Jorge\n",
      "Copiando imagen - L00379412_3.jpeg en '/recursos/destino/' Borrero Jorge\n",
      "Copiando imagen - L00392989_1.jpg en '/recursos/destino/' CedeñoHector\n",
      "Copiando imagen - L00392989_2.jpg en '/recursos/destino/' CedeñoHector\n",
      "Copiando imagen - L00392989_3.jpg en '/recursos/destino/' CedeñoHector\n",
      "Copiando imagen - L00376416_1.jpg en '/recursos/destino/' CevallosJoan\n",
      "Copiando imagen - L00376416_2.jpg en '/recursos/destino/' CevallosJoan\n",
      "Copiando imagen - L00376416_3.jpg en '/recursos/destino/' CevallosJoan\n",
      "Copiando imagen - L00376481_1.jpg en '/recursos/destino/' EnriquezSelena\n",
      "Copiando imagen - L00376481_2_.jpg en '/recursos/destino/' EnriquezSelena\n",
      "Copiando imagen - L00376481_3.jpg en '/recursos/destino/' EnriquezSelena\n",
      "Copiando imagen - L00080128_1 Frente.png en '/recursos/destino/' EspinosaJordan\n",
      "Copiando imagen - L00080128_2 Derecho.png en '/recursos/destino/' EspinosaJordan\n",
      "Copiando imagen - L00080128_3 Izquierda.png en '/recursos/destino/' EspinosaJordan\n",
      "Copiando imagen - L00393010_1.jpeg en '/recursos/destino/' GoyesAnthony\n",
      "Copiando imagen - L00393010_2.jpeg en '/recursos/destino/' GoyesAnthony\n",
      "Copiando imagen - L00393010_3.jpeg en '/recursos/destino/' GoyesAnthony\n",
      "Copiando imagen - L00392991_1.png en '/recursos/destino/' HerediaGenesis\n",
      "Copiando imagen - L00392991_2.png en '/recursos/destino/' HerediaGenesis\n",
      "Copiando imagen - L00392991_3.png en '/recursos/destino/' HerediaGenesis\n",
      "Copiando imagen - L00393009_1.png en '/recursos/destino/' LucioCarlos\n",
      "Copiando imagen - L00393009_2.png en '/recursos/destino/' LucioCarlos\n",
      "Copiando imagen - L00393009_3.png en '/recursos/destino/' LucioCarlos\n",
      "Copiando imagen - L00392999_1.jpeg en '/recursos/destino/' LópezMelany\n",
      "Copiando imagen - L00392999_2.jpeg en '/recursos/destino/' LópezMelany\n",
      "Copiando imagen - L00392999_3.jpeg en '/recursos/destino/' LópezMelany\n",
      "Copiando imagen - 20220803_110911.jpg en '/recursos/destino/' MasacheFernando\n",
      "Copiando imagen - 20220803_110958.jpg en '/recursos/destino/' MasacheFernando\n",
      "Copiando imagen - 20220803_111006.jpg en '/recursos/destino/' MasacheFernando\n",
      "Copiando imagen - L00073392_1.jpg en '/recursos/destino/' MosqueraLucy\n",
      "Copiando imagen - L00073392_2.jpg en '/recursos/destino/' MosqueraLucy\n",
      "Copiando imagen - L00073392_3.jpg en '/recursos/destino/' MosqueraLucy\n",
      "Copiando imagen - L00393001_1.jpg en '/recursos/destino/' OlallaLuis\n",
      "Copiando imagen - L00393001_2.jpg en '/recursos/destino/' OlallaLuis\n",
      "Copiando imagen - L00393001_3.jpg en '/recursos/destino/' OlallaLuis\n",
      "Copiando imagen - L00080134_1.jpg en '/recursos/destino/' PauteKevin\n",
      "Copiando imagen - L00080134_2.jpg en '/recursos/destino/' PauteKevin\n",
      "Copiando imagen - L00080134_3.jpg en '/recursos/destino/' PauteKevin\n",
      "Copiando imagen - L00392984_1.png en '/recursos/destino/' PárragaMaríaJosé\n",
      "Copiando imagen - L00392984_2.png en '/recursos/destino/' PárragaMaríaJosé\n",
      "Copiando imagen - L00392984_3.png en '/recursos/destino/' PárragaMaríaJosé\n",
      "Copiando imagen - L00080957_1.jpg en '/recursos/destino/' RaymondDávila\n",
      "Copiando imagen - L00080957_2.jpg en '/recursos/destino/' RaymondDávila\n",
      "Copiando imagen - L00080957_3.jpg en '/recursos/destino/' RaymondDávila\n",
      "Copiando imagen - L00376689_1.jpg en '/recursos/destino/' RivasSelena\n",
      "Copiando imagen - L00376689_2.jpg en '/recursos/destino/' RivasSelena\n",
      "Copiando imagen - L00376689_3.jpg en '/recursos/destino/' RivasSelena\n",
      "Copiando imagen - L00380361_1.jpg en '/recursos/destino/' RuizJose\n",
      "Copiando imagen - L00380361_2.jpg en '/recursos/destino/' RuizJose\n",
      "Copiando imagen - L00380361_3.jpg en '/recursos/destino/' RuizJose\n",
      "Copiando imagen - L00380416_1.png en '/recursos/destino/' SalazarJohana\n",
      "Copiando imagen - L00380416_2.png en '/recursos/destino/' SalazarJohana\n",
      "Copiando imagen - L00380416_3.png en '/recursos/destino/' SalazarJohana\n",
      "Copiando imagen - L00080131_1.png en '/recursos/destino/' SolórzanoBryan\n",
      "Copiando imagen - L00080131_2.png en '/recursos/destino/' SolórzanoBryan\n",
      "Copiando imagen - L00080131_3.png en '/recursos/destino/' SolórzanoBryan\n",
      "Copiando imagen - L00392980_1.jpeg en '/recursos/destino/' WilmerSolano\n",
      "Copiando imagen - L00392980_2.jpeg en '/recursos/destino/' WilmerSolano\n",
      "Copiando imagen - L00392980_3.jpeg en '/recursos/destino/' WilmerSolano\n",
      "Copiando imagen - L00392993_Centro.png en '/recursos/destino/' ZambranoJhon\n",
      "Copiando imagen - L00392993_LD.png en '/recursos/destino/' ZambranoJhon\n",
      "Copiando imagen - L00392993_LI.png en '/recursos/destino/' ZambranoJhon\n"
     ]
    }
   ],
   "source": [
    "for class_name in class_names:\n",
    "    cur_path = imagenes_ruta + \"/\" + class_name\n",
    "    elements = os.listdir(cur_path)\n",
    "    \n",
    "    for element in elements:\n",
    "        print(\"Copiando imagen - {} en '/recursos/destino/' {}\".format(element, class_name))\n",
    "        src = os.path.join(imagenes_ruta + \"/\" + class_name + \"/\", element) # origen\n",
    "        dst = os.path.join(\"../destino/\" + class_name + \"/\", element) \n",
    "        shutil.copy(src, dst)"
   ]
  },
  {
   "cell_type": "code",
   "execution_count": 48,
   "id": "ab647350",
   "metadata": {},
   "outputs": [
    {
     "data": {
      "text/html": [
       "<div>\n",
       "<style scoped>\n",
       "    .dataframe tbody tr th:only-of-type {\n",
       "        vertical-align: middle;\n",
       "    }\n",
       "\n",
       "    .dataframe tbody tr th {\n",
       "        vertical-align: top;\n",
       "    }\n",
       "\n",
       "    .dataframe thead th {\n",
       "        text-align: right;\n",
       "    }\n",
       "</style>\n",
       "<table border=\"1\" class=\"dataframe\">\n",
       "  <thead>\n",
       "    <tr style=\"text-align: right;\">\n",
       "      <th></th>\n",
       "      <th>Imagen</th>\n",
       "      <th>Clase_ID</th>\n",
       "      <th>Clase_Tipo</th>\n",
       "    </tr>\n",
       "  </thead>\n",
       "  <tbody>\n",
       "    <tr>\n",
       "      <th>0</th>\n",
       "      <td>AcostaNataly/L00380424_1.jpg</td>\n",
       "      <td>0</td>\n",
       "      <td>AcostaNataly</td>\n",
       "    </tr>\n",
       "    <tr>\n",
       "      <th>1</th>\n",
       "      <td>AcostaNataly/L00380424_2.jpg</td>\n",
       "      <td>0.0</td>\n",
       "      <td>AcostaNataly</td>\n",
       "    </tr>\n",
       "    <tr>\n",
       "      <th>2</th>\n",
       "      <td>AcostaNataly/L00380424_3.jpg</td>\n",
       "      <td>0.0</td>\n",
       "      <td>AcostaNataly</td>\n",
       "    </tr>\n",
       "    <tr>\n",
       "      <th>3</th>\n",
       "      <td>ArielChabla/L00376418_1.jpg</td>\n",
       "      <td>1</td>\n",
       "      <td>ArielChabla</td>\n",
       "    </tr>\n",
       "    <tr>\n",
       "      <th>4</th>\n",
       "      <td>ArielChabla/L00376418_2.jpg</td>\n",
       "      <td>1.0</td>\n",
       "      <td>ArielChabla</td>\n",
       "    </tr>\n",
       "    <tr>\n",
       "      <th>...</th>\n",
       "      <td>...</td>\n",
       "      <td>...</td>\n",
       "      <td>...</td>\n",
       "    </tr>\n",
       "    <tr>\n",
       "      <th>73</th>\n",
       "      <td>WilmerSolano/L00392980_2.jpeg</td>\n",
       "      <td>24.0</td>\n",
       "      <td>WilmerSolano</td>\n",
       "    </tr>\n",
       "    <tr>\n",
       "      <th>74</th>\n",
       "      <td>WilmerSolano/L00392980_3.jpeg</td>\n",
       "      <td>24.0</td>\n",
       "      <td>WilmerSolano</td>\n",
       "    </tr>\n",
       "    <tr>\n",
       "      <th>75</th>\n",
       "      <td>ZambranoJhon/L00392993_Centro.png</td>\n",
       "      <td>25</td>\n",
       "      <td>ZambranoJhon</td>\n",
       "    </tr>\n",
       "    <tr>\n",
       "      <th>76</th>\n",
       "      <td>ZambranoJhon/L00392993_LD.png</td>\n",
       "      <td>25.0</td>\n",
       "      <td>ZambranoJhon</td>\n",
       "    </tr>\n",
       "    <tr>\n",
       "      <th>77</th>\n",
       "      <td>ZambranoJhon/L00392993_LI.png</td>\n",
       "      <td>25.0</td>\n",
       "      <td>ZambranoJhon</td>\n",
       "    </tr>\n",
       "  </tbody>\n",
       "</table>\n",
       "<p>78 rows × 3 columns</p>\n",
       "</div>"
      ],
      "text/plain": [
       "                               Imagen Clase_ID    Clase_Tipo\n",
       "0        AcostaNataly/L00380424_1.jpg        0  AcostaNataly\n",
       "1        AcostaNataly/L00380424_2.jpg      0.0  AcostaNataly\n",
       "2        AcostaNataly/L00380424_3.jpg      0.0  AcostaNataly\n",
       "3         ArielChabla/L00376418_1.jpg        1   ArielChabla\n",
       "4         ArielChabla/L00376418_2.jpg      1.0   ArielChabla\n",
       "..                                ...      ...           ...\n",
       "73      WilmerSolano/L00392980_2.jpeg     24.0  WilmerSolano\n",
       "74      WilmerSolano/L00392980_3.jpeg     24.0  WilmerSolano\n",
       "75  ZambranoJhon/L00392993_Centro.png       25  ZambranoJhon\n",
       "76      ZambranoJhon/L00392993_LD.png     25.0  ZambranoJhon\n",
       "77      ZambranoJhon/L00392993_LI.png     25.0  ZambranoJhon\n",
       "\n",
       "[78 rows x 3 columns]"
      ]
     },
     "execution_count": 48,
     "metadata": {},
     "output_type": "execute_result"
    }
   ],
   "source": [
    "train_data = []\n",
    "for clase_tipo, sp in enumerate(clases):\n",
    "    for file in os.listdir(os.path.join(train_ruta, sp+'/')):\n",
    "        train_data.append(['{}/{}'.format(sp, file), clase_tipo, sp])\n",
    "        \n",
    "        clase_tipo = np.array(clase_tipo, dtype = 'float32')\n",
    "        \n",
    "data = pd.DataFrame(train_data, columns=['Imagen', 'Clase_ID','Clase_Tipo'])\n",
    "data"
   ]
  },
  {
   "cell_type": "code",
   "execution_count": 49,
   "id": "24a9020e",
   "metadata": {},
   "outputs": [],
   "source": [
    "long =len(data.index)"
   ]
  },
  {
   "cell_type": "code",
   "execution_count": 57,
   "id": "f463463d",
   "metadata": {},
   "outputs": [],
   "source": [
    "# put labels into y_train variable\n",
    "y = data[\"Clase_Tipo\"]\n",
    "# Drop 'label' column\n",
    "x = data.drop(labels = [\"Clase_Tipo\"],axis = 1) "
   ]
  },
  {
   "cell_type": "code",
   "execution_count": 74,
   "id": "d3126262",
   "metadata": {},
   "outputs": [
    {
     "ename": "InvalidIndexError",
     "evalue": "(0, slice(None, None, None), slice(None, None, None), slice(None, None, None))",
     "output_type": "error",
     "traceback": [
      "\u001b[1;31m---------------------------------------------------------------------------\u001b[0m",
      "\u001b[1;31mTypeError\u001b[0m                                 Traceback (most recent call last)",
      "File \u001b[1;32m~\\anaconda3\\lib\\site-packages\\pandas\\core\\indexes\\base.py:3621\u001b[0m, in \u001b[0;36mIndex.get_loc\u001b[1;34m(self, key, method, tolerance)\u001b[0m\n\u001b[0;32m   3620\u001b[0m \u001b[38;5;28;01mtry\u001b[39;00m:\n\u001b[1;32m-> 3621\u001b[0m     \u001b[38;5;28;01mreturn\u001b[39;00m \u001b[38;5;28;43mself\u001b[39;49m\u001b[38;5;241;43m.\u001b[39;49m\u001b[43m_engine\u001b[49m\u001b[38;5;241;43m.\u001b[39;49m\u001b[43mget_loc\u001b[49m\u001b[43m(\u001b[49m\u001b[43mcasted_key\u001b[49m\u001b[43m)\u001b[49m\n\u001b[0;32m   3622\u001b[0m \u001b[38;5;28;01mexcept\u001b[39;00m \u001b[38;5;167;01mKeyError\u001b[39;00m \u001b[38;5;28;01mas\u001b[39;00m err:\n",
      "File \u001b[1;32m~\\anaconda3\\lib\\site-packages\\pandas\\_libs\\index.pyx:136\u001b[0m, in \u001b[0;36mpandas._libs.index.IndexEngine.get_loc\u001b[1;34m()\u001b[0m\n",
      "File \u001b[1;32m~\\anaconda3\\lib\\site-packages\\pandas\\_libs\\index.pyx:142\u001b[0m, in \u001b[0;36mpandas._libs.index.IndexEngine.get_loc\u001b[1;34m()\u001b[0m\n",
      "\u001b[1;31mTypeError\u001b[0m: '(0, slice(None, None, None), slice(None, None, None), slice(None, None, None))' is an invalid key",
      "\nDuring handling of the above exception, another exception occurred:\n",
      "\u001b[1;31mInvalidIndexError\u001b[0m                         Traceback (most recent call last)",
      "Input \u001b[1;32mIn [74]\u001b[0m, in \u001b[0;36m<cell line: 6>\u001b[1;34m()\u001b[0m\n\u001b[0;32m      4\u001b[0m axs\u001b[38;5;241m=\u001b[39m axs\u001b[38;5;241m.\u001b[39mflatten()\n\u001b[0;32m      6\u001b[0m \u001b[38;5;28;01mfor\u001b[39;00m i \u001b[38;5;129;01min\u001b[39;00m \u001b[38;5;28mrange\u001b[39m(y\u001b[38;5;241m.\u001b[39mshape[\u001b[38;5;241m0\u001b[39m]):\n\u001b[1;32m----> 7\u001b[0m     y \u001b[38;5;241m=\u001b[39m \u001b[43mdata\u001b[49m\u001b[43m[\u001b[49m\u001b[43mi\u001b[49m\u001b[43m,\u001b[49m\u001b[43m:\u001b[49m\u001b[43m,\u001b[49m\u001b[43m:\u001b[49m\u001b[43m,\u001b[49m\u001b[43m:\u001b[49m\u001b[43m]\u001b[49m\u001b[38;5;241m.\u001b[39mpermute(\u001b[38;5;241m1\u001b[39m, \u001b[38;5;241m2\u001b[39m, \u001b[38;5;241m0\u001b[39m)\u001b[38;5;241m.\u001b[39mint()\u001b[38;5;241m.\u001b[39mnumpy()\n\u001b[0;32m      8\u001b[0m     axs[i]\u001b[38;5;241m.\u001b[39mimshow(face)\n\u001b[0;32m      9\u001b[0m     axs[i]\u001b[38;5;241m.\u001b[39maxis(\u001b[38;5;124m'\u001b[39m\u001b[38;5;124moff\u001b[39m\u001b[38;5;124m'\u001b[39m)\n",
      "File \u001b[1;32m~\\anaconda3\\lib\\site-packages\\pandas\\core\\frame.py:3505\u001b[0m, in \u001b[0;36mDataFrame.__getitem__\u001b[1;34m(self, key)\u001b[0m\n\u001b[0;32m   3503\u001b[0m \u001b[38;5;28;01mif\u001b[39;00m \u001b[38;5;28mself\u001b[39m\u001b[38;5;241m.\u001b[39mcolumns\u001b[38;5;241m.\u001b[39mnlevels \u001b[38;5;241m>\u001b[39m \u001b[38;5;241m1\u001b[39m:\n\u001b[0;32m   3504\u001b[0m     \u001b[38;5;28;01mreturn\u001b[39;00m \u001b[38;5;28mself\u001b[39m\u001b[38;5;241m.\u001b[39m_getitem_multilevel(key)\n\u001b[1;32m-> 3505\u001b[0m indexer \u001b[38;5;241m=\u001b[39m \u001b[38;5;28;43mself\u001b[39;49m\u001b[38;5;241;43m.\u001b[39;49m\u001b[43mcolumns\u001b[49m\u001b[38;5;241;43m.\u001b[39;49m\u001b[43mget_loc\u001b[49m\u001b[43m(\u001b[49m\u001b[43mkey\u001b[49m\u001b[43m)\u001b[49m\n\u001b[0;32m   3506\u001b[0m \u001b[38;5;28;01mif\u001b[39;00m is_integer(indexer):\n\u001b[0;32m   3507\u001b[0m     indexer \u001b[38;5;241m=\u001b[39m [indexer]\n",
      "File \u001b[1;32m~\\anaconda3\\lib\\site-packages\\pandas\\core\\indexes\\base.py:3628\u001b[0m, in \u001b[0;36mIndex.get_loc\u001b[1;34m(self, key, method, tolerance)\u001b[0m\n\u001b[0;32m   3623\u001b[0m         \u001b[38;5;28;01mraise\u001b[39;00m \u001b[38;5;167;01mKeyError\u001b[39;00m(key) \u001b[38;5;28;01mfrom\u001b[39;00m \u001b[38;5;21;01merr\u001b[39;00m\n\u001b[0;32m   3624\u001b[0m     \u001b[38;5;28;01mexcept\u001b[39;00m \u001b[38;5;167;01mTypeError\u001b[39;00m:\n\u001b[0;32m   3625\u001b[0m         \u001b[38;5;66;03m# If we have a listlike key, _check_indexing_error will raise\u001b[39;00m\n\u001b[0;32m   3626\u001b[0m         \u001b[38;5;66;03m#  InvalidIndexError. Otherwise we fall through and re-raise\u001b[39;00m\n\u001b[0;32m   3627\u001b[0m         \u001b[38;5;66;03m#  the TypeError.\u001b[39;00m\n\u001b[1;32m-> 3628\u001b[0m         \u001b[38;5;28;43mself\u001b[39;49m\u001b[38;5;241;43m.\u001b[39;49m\u001b[43m_check_indexing_error\u001b[49m\u001b[43m(\u001b[49m\u001b[43mkey\u001b[49m\u001b[43m)\u001b[49m\n\u001b[0;32m   3629\u001b[0m         \u001b[38;5;28;01mraise\u001b[39;00m\n\u001b[0;32m   3631\u001b[0m \u001b[38;5;66;03m# GH#42269\u001b[39;00m\n",
      "File \u001b[1;32m~\\anaconda3\\lib\\site-packages\\pandas\\core\\indexes\\base.py:5637\u001b[0m, in \u001b[0;36mIndex._check_indexing_error\u001b[1;34m(self, key)\u001b[0m\n\u001b[0;32m   5633\u001b[0m \u001b[38;5;28;01mdef\u001b[39;00m \u001b[38;5;21m_check_indexing_error\u001b[39m(\u001b[38;5;28mself\u001b[39m, key):\n\u001b[0;32m   5634\u001b[0m     \u001b[38;5;28;01mif\u001b[39;00m \u001b[38;5;129;01mnot\u001b[39;00m is_scalar(key):\n\u001b[0;32m   5635\u001b[0m         \u001b[38;5;66;03m# if key is not a scalar, directly raise an error (the code below\u001b[39;00m\n\u001b[0;32m   5636\u001b[0m         \u001b[38;5;66;03m# would convert to numpy arrays and raise later any way) - GH29926\u001b[39;00m\n\u001b[1;32m-> 5637\u001b[0m         \u001b[38;5;28;01mraise\u001b[39;00m InvalidIndexError(key)\n",
      "\u001b[1;31mInvalidIndexError\u001b[0m: (0, slice(None, None, None), slice(None, None, None), slice(None, None, None))"
     ]
    },
    {
     "data": {
      "image/png": "[encoded data removed]",
      "text/plain": [
       "<Figure size 720x432 with 12 Axes>"
      ]
     },
     "metadata": {
      "needs_background": "light"
     },
     "output_type": "display_data"
    }
   ],
   "source": [
    "# Representación con matplotlib\n",
    "# ==============================================================================\n",
    "fig, axs = plt.subplots(nrows=2, ncols=6, figsize=(10, 6))\n",
    "axs= axs.flatten()\n",
    "\n",
    "for i in range(faces.shape[0]):\n",
    "    face = faces[i,:,:,:].permute(1, 2, 0).int().numpy()\n",
    "    axs[i].imshow(face)\n",
    "    axs[i].axis('off')\n",
    "    \n",
    "plt.tight_layout();"
   ]
  },
  {
   "cell_type": "code",
   "execution_count": 53,
   "id": "d6fa9434",
   "metadata": {},
   "outputs": [
    {
     "data": {
      "text/plain": [
       "AcostaNataly        3\n",
       "ArielChabla         3\n",
       "WilmerSolano        3\n",
       "SolórzanoBryan      3\n",
       "SalazarJohana       3\n",
       "RuizJose            3\n",
       "RivasSelena         3\n",
       "RaymondDávila       3\n",
       "PárragaMaríaJosé    3\n",
       "PauteKevin          3\n",
       "OlallaLuis          3\n",
       "MosqueraLucy        3\n",
       "MasacheFernando     3\n",
       "LópezMelany         3\n",
       "LucioCarlos         3\n",
       "HerediaGenesis      3\n",
       "GoyesAnthony        3\n",
       "EspinosaJordan      3\n",
       "EnriquezSelena      3\n",
       "CevallosJoan        3\n",
       "CedeñoHector        3\n",
       "Borrero Jorge       3\n",
       "BorjaLeonardo       3\n",
       "BarraganSteven      3\n",
       "ArroboMercy         3\n",
       "ZambranoJhon        3\n",
       "Name: Clase_Tipo, dtype: int64"
      ]
     },
     "execution_count": 53,
     "metadata": {},
     "output_type": "execute_result"
    }
   ],
   "source": [
    "# visualize number of digits classes\n",
    "Y.value_counts()"
   ]
  },
  {
   "cell_type": "markdown",
   "id": "93c30410",
   "metadata": {},
   "source": [
    "## Descripción de la fuente del Dataset"
   ]
  },
  {
   "cell_type": "markdown",
   "id": "db6174bc",
   "metadata": {},
   "source": [
    "Haga una descripción de la fuente de dayos utilizada (Incluya los enlaces necesarios)."
   ]
  },
  {
   "cell_type": "markdown",
   "id": "7f868eab",
   "metadata": {},
   "source": [
    "## Explique el problema a resolver. \n",
    "Descripción del problema. Tipo de problema (justifique). Variable objetivo, variables de entrada. Utilidad de su posible solución. Elementos adicionales que considere relevantes (no son necesarios contenidos teóricos, sino explicar qué relaciones tratas de comprobar y con qué métodos)."
   ]
  },
  {
   "cell_type": "markdown",
   "id": "a0b719c1",
   "metadata": {},
   "source": [
    "## Caracterización del Dataset\n",
    "\n",
    "Realice una descripción de los datos con:\n",
    "\n",
    ">- Número de instancias en total.\n",
    ">- Número de atributos de entrada, su significado y tipo.\n",
    ">- Estadísticas de la variable objetivo.\n",
    ">- Estadísticas los atributos en relación con la variable objetivo.\n"
   ]
  },
  {
   "cell_type": "code",
   "execution_count": 3,
   "id": "2f0ed5d2",
   "metadata": {},
   "outputs": [],
   "source": [
    "#Código que responde a la descripción anterior"
   ]
  },
  {
   "cell_type": "markdown",
   "id": "a7ab5e48",
   "metadata": {},
   "source": [
    "En un par de párrafos haga un resumen de los principales hallazagos encontrados:    "
   ]
  },
  {
   "cell_type": "markdown",
   "id": "0a19e6af",
   "metadata": {},
   "source": [
    "## Preprocesamiento del dataset. Transformaciones previas necesarias para la modelación"
   ]
  },
  {
   "cell_type": "code",
   "execution_count": 4,
   "id": "5a24dac4",
   "metadata": {},
   "outputs": [],
   "source": [
    "#Transformación de las caracteristicas (mire el apartado Feature engineering del aula virtual)\n"
   ]
  },
  {
   "cell_type": "markdown",
   "id": "49815fde",
   "metadata": {
    "ExecuteTime": {
     "end_time": "2022-03-14T15:56:34.366469Z",
     "start_time": "2022-03-14T15:56:34.358471Z"
    }
   },
   "source": [
    "## División del dataset en datos de entrenamiento y datos de test "
   ]
  },
  {
   "cell_type": "code",
   "execution_count": 5,
   "id": "6f26d21e",
   "metadata": {},
   "outputs": [],
   "source": [
    "#Código que realice la división en entrenamiento y test, de acuerdo con la estretgia de evaluación planeada. Describa cuál es.\n"
   ]
  },
  {
   "cell_type": "markdown",
   "id": "6319adad",
   "metadata": {},
   "source": [
    "## Modelamiento"
   ]
  },
  {
   "cell_type": "code",
   "execution_count": 6,
   "id": "d5d2b2c6",
   "metadata": {},
   "outputs": [],
   "source": [
    "#Códo del modelo"
   ]
  },
  {
   "cell_type": "code",
   "execution_count": 7,
   "id": "33f5be2a",
   "metadata": {
    "ExecuteTime": {
     "end_time": "2022-04-25T07:21:39.020596Z",
     "start_time": "2022-04-25T07:21:39.005596Z"
    }
   },
   "outputs": [],
   "source": [
    "#Entrenamiento"
   ]
  },
  {
   "cell_type": "code",
   "execution_count": 8,
   "id": "a2e675b3",
   "metadata": {},
   "outputs": [],
   "source": [
    "#Test"
   ]
  },
  {
   "cell_type": "markdown",
   "id": "9c2239f5",
   "metadata": {},
   "source": [
    "## Evaluación del Modelo"
   ]
  },
  {
   "cell_type": "markdown",
   "id": "ad219a0c",
   "metadata": {},
   "source": [
    "Construya un o dos párrafos con los principales hallazgos. Cómo está funcionando el modelo? Calidad en los resultados de predicción. "
   ]
  },
  {
   "cell_type": "code",
   "execution_count": null,
   "id": "28b14a2f",
   "metadata": {},
   "outputs": [],
   "source": []
  }
 ],
 "metadata": {
  "kernelspec": {
   "display_name": "Python 3 (ipykernel)",
   "language": "python",
   "name": "python3"
  },
  "language_info": {
   "codemirror_mode": {
    "name": "ipython",
    "version": 3
   },
   "file_extension": ".py",
   "mimetype": "text/x-python",
   "name": "python",
   "nbconvert_exporter": "python",
   "pygments_lexer": "ipython3",
   "version": "3.9.12"
  },
  "toc": {
   "base_numbering": 1,
   "nav_menu": {},
   "number_sections": true,
   "sideBar": true,
   "skip_h1_title": true,
   "title_cell": "Tabla de Contenido",
   "title_sidebar": "Contenido",
   "toc_cell": false,
   "toc_position": {
    "height": "calc(100% - 180px)",
    "left": "10px",
    "top": "150px",
    "width": "263.591px"
   },
   "toc_section_display": true,
   "toc_window_display": true
  }
 },
 "nbformat": 4,
 "nbformat_minor": 5
}
